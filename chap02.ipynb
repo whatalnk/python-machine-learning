{
 "cells": [
  {
   "cell_type": "code",
   "execution_count": 1,
   "metadata": {
    "collapsed": true
   },
   "outputs": [],
   "source": [
    "import numpy as np"
   ]
  },
  {
   "cell_type": "markdown",
   "metadata": {},
   "source": [
    "$$ \\begin{eqnarray}\n",
    "\\phi(z) = \\left\\{ \n",
    "    \\begin{array}{ll}\n",
    "        1 & (z >= \\theta) \\\\\n",
    "        -1 & (z < \\theta) \\\\\n",
    "    \\end{array} \\right.\n",
    "\\end{eqnarray} $$\n",
    "\n",
    "$$ z = w^T x $$\n",
    "$ w = \\{w_1, w_2, \\cdots, w_n \\}$, \n",
    "$ x = \\{x_1, x_2, \\cdots, x_n \\} $"
   ]
  },
  {
   "cell_type": "markdown",
   "metadata": {},
   "source": [
    "\\begin{eqnarray}\n",
    "\\phi(z^{\\prime}) = \\left\\{ \n",
    "    \\begin{array}{ll}\n",
    "        1 & (z^{\\prime} >= 0) \\\\\n",
    "        -1 & (z^{\\prime} < 0) \\\\\n",
    "    \\end{array} \\right.\n",
    "\\end{eqnarray}\n",
    "\n",
    "\\begin{eqnarray}\n",
    "    z^{\\prime} &=& z - \\theta \\\\\n",
    "        &=& w^T x - \\theta \\\\\n",
    "        &=& w^T x + (- \\theta) \\cdot 1 \\\\\n",
    "        &=& w^T x \n",
    "\\end{eqnarray}\n",
    "\n",
    "$ w = \\{w_0, w_1, w_2, \\cdots, w_n \\}$ ($ w_0 = -\\theta$), \n",
    "\n",
    "$ x = \\{x_0, x_1, x_2, \\cdots, x_n \\}$ ($w_0 = 1$)"
   ]
  },
  {
   "cell_type": "markdown",
   "metadata": {},
   "source": [
    "$$ w_j := w_j + \\Delta w_j $$\n",
    "\n",
    "$$ \\Delta w_j = \\eta \\left(y^{(i)} - \\hat{y}^{(i)} \\right) x_j^{(i)} $$\n",
    "\n",
    "* $y$ は出力（ラベル）\n",
    "* $\\eta$ は学習率"
   ]
  },
  {
   "cell_type": "code",
   "execution_count": 3,
   "metadata": {
    "collapsed": false
   },
   "outputs": [
    {
     "data": {
      "text/plain": [
       "array([-1, -1,  1])"
      ]
     },
     "execution_count": 3,
     "metadata": {},
     "output_type": "execute_result"
    }
   ],
   "source": [
    "np.where(np.array([1,2,3]) > 2, 1, -1)"
   ]
  },
  {
   "cell_type": "code",
   "execution_count": 6,
   "metadata": {
    "collapsed": true
   },
   "outputs": [],
   "source": [
    "class Perceptron(object):\n",
    "    def __init__(self, eta=0.01, n_iter=10):\n",
    "        self.eta = eta\n",
    "        self.n_iter = n_iter\n",
    "    \n",
    "    def fit(self, X, y):\n",
    "        self.w_ = np.zeros(1 + X.shape[1])\n",
    "        self.errors_ = []\n",
    "        \n",
    "        for _ in range(self.n_iter):\n",
    "            errors = 0\n",
    "            for xi, target in zip(X, y):\n",
    "                update = self.eta * (target - self.predict(xi))\n",
    "                self.w_[1:] += update * xi\n",
    "                self.w_[0] += update\n",
    "                errors += int(update != 0.0)\n",
    "            self.errors_.append(errors)\n",
    "        return self\n",
    "    \n",
    "    # z^{\\prime}\n",
    "    def net_input(self, X):\n",
    "        return np.dot(X, self.w_[1:]) + self.w_[0]\n",
    "    \n",
    "    # \\phi(z^{\\prime})\n",
    "    def predict(self, X):\n",
    "        return np.where(self.net_input(X) >= 0.0, 1, -1)"
   ]
  },
  {
   "cell_type": "code",
   "execution_count": 4,
   "metadata": {
    "collapsed": true
   },
   "outputs": [],
   "source": [
    "import pandas as pd"
   ]
  },
  {
   "cell_type": "code",
   "execution_count": 5,
   "metadata": {
    "collapsed": false,
    "scrolled": true
   },
   "outputs": [
    {
     "data": {
      "text/html": [
       "<div>\n",
       "<table border=\"1\" class=\"dataframe\">\n",
       "  <thead>\n",
       "    <tr style=\"text-align: right;\">\n",
       "      <th></th>\n",
       "      <th>0</th>\n",
       "      <th>1</th>\n",
       "      <th>2</th>\n",
       "      <th>3</th>\n",
       "      <th>4</th>\n",
       "    </tr>\n",
       "  </thead>\n",
       "  <tbody>\n",
       "    <tr>\n",
       "      <th>145</th>\n",
       "      <td>6.7</td>\n",
       "      <td>3.0</td>\n",
       "      <td>5.2</td>\n",
       "      <td>2.3</td>\n",
       "      <td>Iris-virginica</td>\n",
       "    </tr>\n",
       "    <tr>\n",
       "      <th>146</th>\n",
       "      <td>6.3</td>\n",
       "      <td>2.5</td>\n",
       "      <td>5.0</td>\n",
       "      <td>1.9</td>\n",
       "      <td>Iris-virginica</td>\n",
       "    </tr>\n",
       "    <tr>\n",
       "      <th>147</th>\n",
       "      <td>6.5</td>\n",
       "      <td>3.0</td>\n",
       "      <td>5.2</td>\n",
       "      <td>2.0</td>\n",
       "      <td>Iris-virginica</td>\n",
       "    </tr>\n",
       "    <tr>\n",
       "      <th>148</th>\n",
       "      <td>6.2</td>\n",
       "      <td>3.4</td>\n",
       "      <td>5.4</td>\n",
       "      <td>2.3</td>\n",
       "      <td>Iris-virginica</td>\n",
       "    </tr>\n",
       "    <tr>\n",
       "      <th>149</th>\n",
       "      <td>5.9</td>\n",
       "      <td>3.0</td>\n",
       "      <td>5.1</td>\n",
       "      <td>1.8</td>\n",
       "      <td>Iris-virginica</td>\n",
       "    </tr>\n",
       "  </tbody>\n",
       "</table>\n",
       "</div>"
      ],
      "text/plain": [
       "       0    1    2    3               4\n",
       "145  6.7  3.0  5.2  2.3  Iris-virginica\n",
       "146  6.3  2.5  5.0  1.9  Iris-virginica\n",
       "147  6.5  3.0  5.2  2.0  Iris-virginica\n",
       "148  6.2  3.4  5.4  2.3  Iris-virginica\n",
       "149  5.9  3.0  5.1  1.8  Iris-virginica"
      ]
     },
     "execution_count": 5,
     "metadata": {},
     "output_type": "execute_result"
    }
   ],
   "source": [
    "df = pd.read_csv('data/iris.data', header = None)\n",
    "df.tail()"
   ]
  },
  {
   "cell_type": "code",
   "execution_count": 7,
   "metadata": {
    "collapsed": true
   },
   "outputs": [],
   "source": [
    "%matplotlib inline"
   ]
  },
  {
   "cell_type": "code",
   "execution_count": 8,
   "metadata": {
    "collapsed": true
   },
   "outputs": [],
   "source": [
    "import matplotlib.pyplot as plt"
   ]
  },
  {
   "cell_type": "code",
   "execution_count": 21,
   "metadata": {
    "collapsed": false
   },
   "outputs": [
    {
     "data": {
      "text/plain": [
       "array([-1, -1, -1, -1, -1, -1, -1, -1, -1, -1, -1, -1, -1, -1, -1, -1, -1,\n",
       "       -1, -1, -1, -1, -1, -1, -1, -1, -1, -1, -1, -1, -1, -1, -1, -1, -1,\n",
       "       -1, -1, -1, -1, -1, -1, -1, -1, -1, -1, -1, -1, -1, -1, -1, -1,  1,\n",
       "        1,  1,  1,  1,  1,  1,  1,  1,  1,  1,  1,  1,  1,  1,  1,  1,  1,\n",
       "        1,  1,  1,  1,  1,  1,  1,  1,  1,  1,  1,  1,  1,  1,  1,  1,  1,\n",
       "        1,  1,  1,  1,  1,  1,  1,  1,  1,  1,  1,  1,  1,  1,  1])"
      ]
     },
     "execution_count": 21,
     "metadata": {},
     "output_type": "execute_result"
    }
   ],
   "source": [
    "y = np.where(df.iloc[0:100, 4].values == 'Iris-setosa', -1, 1)\n",
    "y"
   ]
  },
  {
   "cell_type": "code",
   "execution_count": 22,
   "metadata": {
    "collapsed": false,
    "scrolled": true
   },
   "outputs": [
    {
     "data": {
      "text/plain": [
       "array([[ 5.1,  1.4],\n",
       "       [ 4.9,  1.4],\n",
       "       [ 4.7,  1.3],\n",
       "       [ 4.6,  1.5],\n",
       "       [ 5. ,  1.4],\n",
       "       [ 5.4,  1.7],\n",
       "       [ 4.6,  1.4],\n",
       "       [ 5. ,  1.5],\n",
       "       [ 4.4,  1.4],\n",
       "       [ 4.9,  1.5],\n",
       "       [ 5.4,  1.5],\n",
       "       [ 4.8,  1.6],\n",
       "       [ 4.8,  1.4],\n",
       "       [ 4.3,  1.1],\n",
       "       [ 5.8,  1.2],\n",
       "       [ 5.7,  1.5],\n",
       "       [ 5.4,  1.3],\n",
       "       [ 5.1,  1.4],\n",
       "       [ 5.7,  1.7],\n",
       "       [ 5.1,  1.5],\n",
       "       [ 5.4,  1.7],\n",
       "       [ 5.1,  1.5],\n",
       "       [ 4.6,  1. ],\n",
       "       [ 5.1,  1.7],\n",
       "       [ 4.8,  1.9],\n",
       "       [ 5. ,  1.6],\n",
       "       [ 5. ,  1.6],\n",
       "       [ 5.2,  1.5],\n",
       "       [ 5.2,  1.4],\n",
       "       [ 4.7,  1.6],\n",
       "       [ 4.8,  1.6],\n",
       "       [ 5.4,  1.5],\n",
       "       [ 5.2,  1.5],\n",
       "       [ 5.5,  1.4],\n",
       "       [ 4.9,  1.5],\n",
       "       [ 5. ,  1.2],\n",
       "       [ 5.5,  1.3],\n",
       "       [ 4.9,  1.5],\n",
       "       [ 4.4,  1.3],\n",
       "       [ 5.1,  1.5],\n",
       "       [ 5. ,  1.3],\n",
       "       [ 4.5,  1.3],\n",
       "       [ 4.4,  1.3],\n",
       "       [ 5. ,  1.6],\n",
       "       [ 5.1,  1.9],\n",
       "       [ 4.8,  1.4],\n",
       "       [ 5.1,  1.6],\n",
       "       [ 4.6,  1.4],\n",
       "       [ 5.3,  1.5],\n",
       "       [ 5. ,  1.4],\n",
       "       [ 7. ,  4.7],\n",
       "       [ 6.4,  4.5],\n",
       "       [ 6.9,  4.9],\n",
       "       [ 5.5,  4. ],\n",
       "       [ 6.5,  4.6],\n",
       "       [ 5.7,  4.5],\n",
       "       [ 6.3,  4.7],\n",
       "       [ 4.9,  3.3],\n",
       "       [ 6.6,  4.6],\n",
       "       [ 5.2,  3.9],\n",
       "       [ 5. ,  3.5],\n",
       "       [ 5.9,  4.2],\n",
       "       [ 6. ,  4. ],\n",
       "       [ 6.1,  4.7],\n",
       "       [ 5.6,  3.6],\n",
       "       [ 6.7,  4.4],\n",
       "       [ 5.6,  4.5],\n",
       "       [ 5.8,  4.1],\n",
       "       [ 6.2,  4.5],\n",
       "       [ 5.6,  3.9],\n",
       "       [ 5.9,  4.8],\n",
       "       [ 6.1,  4. ],\n",
       "       [ 6.3,  4.9],\n",
       "       [ 6.1,  4.7],\n",
       "       [ 6.4,  4.3],\n",
       "       [ 6.6,  4.4],\n",
       "       [ 6.8,  4.8],\n",
       "       [ 6.7,  5. ],\n",
       "       [ 6. ,  4.5],\n",
       "       [ 5.7,  3.5],\n",
       "       [ 5.5,  3.8],\n",
       "       [ 5.5,  3.7],\n",
       "       [ 5.8,  3.9],\n",
       "       [ 6. ,  5.1],\n",
       "       [ 5.4,  4.5],\n",
       "       [ 6. ,  4.5],\n",
       "       [ 6.7,  4.7],\n",
       "       [ 6.3,  4.4],\n",
       "       [ 5.6,  4.1],\n",
       "       [ 5.5,  4. ],\n",
       "       [ 5.5,  4.4],\n",
       "       [ 6.1,  4.6],\n",
       "       [ 5.8,  4. ],\n",
       "       [ 5. ,  3.3],\n",
       "       [ 5.6,  4.2],\n",
       "       [ 5.7,  4.2],\n",
       "       [ 5.7,  4.2],\n",
       "       [ 6.2,  4.3],\n",
       "       [ 5.1,  3. ],\n",
       "       [ 5.7,  4.1]])"
      ]
     },
     "execution_count": 22,
     "metadata": {},
     "output_type": "execute_result"
    }
   ],
   "source": [
    "X = df.iloc[0:100, [0, 2]].values\n",
    "X"
   ]
  },
  {
   "cell_type": "code",
   "execution_count": 28,
   "metadata": {
    "collapsed": false
   },
   "outputs": [
    {
     "data": {
      "image/png": "[encoded data removed]",
      "text/plain": [
       "<matplotlib.figure.Figure at 0x1c83b375198>"
      ]
     },
     "metadata": {},
     "output_type": "display_data"
    }
   ],
   "source": [
    "plt.scatter(X[:50,0], X[:50,1], color='red', marker='o', label='setosa')\n",
    "plt.scatter(X[50:100,0], X[50:100,1], color='blue', marker='x', label='versicolor')\n",
    "plt.xlabel('sepal length [cm]')\n",
    "plt.ylabel('petal length [cm]')\n",
    "plt.legend(loc='upper left')\n",
    "plt.show()"
   ]
  },
  {
   "cell_type": "code",
   "execution_count": 29,
   "metadata": {
    "collapsed": false
   },
   "outputs": [
    {
     "data": {
      "text/plain": [
       "<__main__.Perceptron at 0x1c83b2f7d68>"
      ]
     },
     "execution_count": 29,
     "metadata": {},
     "output_type": "execute_result"
    }
   ],
   "source": [
    "ppn = Perceptron(eta=0.1, n_iter=10)\n",
    "ppn.fit(X, y)"
   ]
  },
  {
   "cell_type": "code",
   "execution_count": 30,
   "metadata": {
    "collapsed": false,
    "scrolled": true
   },
   "outputs": [
    {
     "data": {
      "image/png": "[encoded data removed]",
      "text/plain": [
       "<matplotlib.figure.Figure at 0x1c83a2c8e48>"
      ]
     },
     "metadata": {},
     "output_type": "display_data"
    }
   ],
   "source": [
    "plt.plot(range(1, len(ppn.errors_) + 1), ppn.errors_, marker='o')\n",
    "plt.xlabel('Epochs')\n",
    "plt.ylabel('Number of misclassifications')\n",
    "plt.show()"
   ]
  },
  {
   "cell_type": "code",
   "execution_count": 38,
   "metadata": {
    "collapsed": true
   },
   "outputs": [],
   "source": [
    "from matplotlib.colors import ListedColormap\n",
    "def plot_decision_regions(X, y, classifier, resolution=0.02):\n",
    "    markers = ('s', 'x', 'o', '^', 'v')\n",
    "    colors = ('red', 'blue', 'lightgreen', 'gray', 'cyan')\n",
    "    cmap = ListedColormap(colors[:len(np.unique(y))])\n",
    "\n",
    "    x1_min, x1_max = X[:, 0].min() - 1, X[:, 0].max() + 1\n",
    "    x2_min, x2_max = X[:, 1].min() - 1, X[:, 1].max() + 1\n",
    "\n",
    "    xx1, xx2 = np.meshgrid(np.arange(x1_min, x1_max, resolution), np.arange(x2_min, x2_max, resolution))\n",
    "\n",
    "    Z = classifier.predict(np.array([xx1.ravel(), xx2.ravel()]).T)\n",
    "\n",
    "    Z = Z.reshape(xx1.shape)\n",
    "\n",
    "    plt.contourf(xx1, xx2, Z, alpha=0.4, cmap=cmap)\n",
    "\n",
    "    plt.xlim(xx1.min(), xx1.max())\n",
    "    plt.ylim(xx2.min(), xx2.max())\n",
    "\n",
    "    for idx, cl in enumerate(np.unique(y)):\n",
    "        plt.scatter(x=X[y == cl, 0], y=X[y == cl, 1], alpha=0.8, c=cmap(idx),\n",
    "        marker=markers[idx], label=cl)"
   ]
  },
  {
   "cell_type": "code",
   "execution_count": 39,
   "metadata": {
    "collapsed": false
   },
   "outputs": [
    {
     "data": {
      "image/png": "[encoded data removed]",
      "text/plain": [
       "<matplotlib.figure.Figure at 0x1c83a2c0dd8>"
      ]
     },
     "metadata": {},
     "output_type": "display_data"
    }
   ],
   "source": [
    "plot_decision_regions(X, y, classifier=ppn)\n",
    "plt.xlabel('sepal length [cm]')\n",
    "plt.ylabel('petal length [cm]')\n",
    "plt.legend(loc='upper left')\n",
    "plt.show()"
   ]
  }
 ],
 "metadata": {
  "anaconda-cloud": {},
  "kernelspec": {
   "display_name": "Python [default]",
   "language": "python",
   "name": "python3"
  },
  "language_info": {
   "codemirror_mode": {
    "name": "ipython",
    "version": 3
   },
   "file_extension": ".py",
   "mimetype": "text/x-python",
   "name": "python",
   "nbconvert_exporter": "python",
   "pygments_lexer": "ipython3",
   "version": "3.5.2"
  }
 },
 "nbformat": 4,
 "nbformat_minor": 1
}
